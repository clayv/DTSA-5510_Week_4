{
 "cells": [
  {
   "cell_type": "markdown",
   "id": "8c7a2d44",
   "metadata": {},
   "source": [
    "# DTSA-5510 Week 4 Programming Assignment: BBC News Classification\n",
    "## May 23, 2022\n",
    "\n",
    "## Introduction\n",
    "\n",
    "This is the Week 3 project for DTSA-5510, Unsupervised Algorithms in Machine Learning, and performs unsupervised learning algorithms to [BBC news stories](https://www.kaggle.com/competitions/learn-ai-bbc/overview) from a machine learning competition on [Kaggle](https://www.kaggle.com).\n",
    "  \n",
    "This project attempts to categorize or cluster BBC news stories based on the textual content of the story. After binning the stories, the bins are assigned the category names based on the highest predictive score and then these names are compared to the test data to determine the accuracy of the unsupervised learning method.\n",
    "\n",
    "This Jupyter notebook along with the data used to create report can be found at and cloned from https://github.com/clayv/DTSA-5510_Week_4."
   ]
  },
  {
   "cell_type": "code",
   "execution_count": 1,
   "id": "97865735",
   "metadata": {
    "scrolled": false
   },
   "outputs": [],
   "source": [
    "import itertools\n",
    "import matplotlib.pylab as plt\n",
    "import numpy as np\n",
    "import pandas as pd\n",
    "from sklearn.feature_extraction.text import TfidfVectorizer, CountVectorizer\n",
    "from sklearn.decomposition import NMF\n",
    "import sklearn.metrics as metrics \n",
    "\n",
    "#Set a global random state (set to 'None' if reproducible results are not desired)\n",
    "randomState = 42"
   ]
  },
  {
   "cell_type": "markdown",
   "id": "fe09356a",
   "metadata": {},
   "source": [
    "## Step 0: Load the data"
   ]
  },
  {
   "cell_type": "code",
   "execution_count": 2,
   "id": "7e98c226",
   "metadata": {
    "scrolled": true
   },
   "outputs": [
    {
     "data": {
      "text/html": [
       "<div>\n",
       "<style scoped>\n",
       "    .dataframe tbody tr th:only-of-type {\n",
       "        vertical-align: middle;\n",
       "    }\n",
       "\n",
       "    .dataframe tbody tr th {\n",
       "        vertical-align: top;\n",
       "    }\n",
       "\n",
       "    .dataframe thead th {\n",
       "        text-align: right;\n",
       "    }\n",
       "</style>\n",
       "<table border=\"1\" class=\"dataframe\">\n",
       "  <thead>\n",
       "    <tr style=\"text-align: right;\">\n",
       "      <th></th>\n",
       "      <th>ArticleId</th>\n",
       "      <th>Text</th>\n",
       "      <th>Category</th>\n",
       "    </tr>\n",
       "  </thead>\n",
       "  <tbody>\n",
       "    <tr>\n",
       "      <th>0</th>\n",
       "      <td>1833</td>\n",
       "      <td>worldcom ex-boss launches defence lawyers defe...</td>\n",
       "      <td>business</td>\n",
       "    </tr>\n",
       "    <tr>\n",
       "      <th>1</th>\n",
       "      <td>154</td>\n",
       "      <td>german business confidence slides german busin...</td>\n",
       "      <td>business</td>\n",
       "    </tr>\n",
       "    <tr>\n",
       "      <th>2</th>\n",
       "      <td>1101</td>\n",
       "      <td>bbc poll indicates economic gloom citizens in ...</td>\n",
       "      <td>business</td>\n",
       "    </tr>\n",
       "    <tr>\n",
       "      <th>3</th>\n",
       "      <td>1976</td>\n",
       "      <td>lifestyle  governs mobile choice  faster  bett...</td>\n",
       "      <td>tech</td>\n",
       "    </tr>\n",
       "    <tr>\n",
       "      <th>4</th>\n",
       "      <td>917</td>\n",
       "      <td>enron bosses in $168m payout eighteen former e...</td>\n",
       "      <td>business</td>\n",
       "    </tr>\n",
       "  </tbody>\n",
       "</table>\n",
       "</div>"
      ],
      "text/plain": [
       "   ArticleId                                               Text  Category\n",
       "0       1833  worldcom ex-boss launches defence lawyers defe...  business\n",
       "1        154  german business confidence slides german busin...  business\n",
       "2       1101  bbc poll indicates economic gloom citizens in ...  business\n",
       "3       1976  lifestyle  governs mobile choice  faster  bett...      tech\n",
       "4        917  enron bosses in $168m payout eighteen former e...  business"
      ]
     },
     "execution_count": 2,
     "metadata": {},
     "output_type": "execute_result"
    }
   ],
   "source": [
    "df_train = pd.read_csv(\"data/BBC News Train.csv.zip\", compression=\"zip\")\n",
    "df_test = pd.read_csv(\"data/BBC News Test.csv.zip\", compression=\"zip\")\n",
    "df_train.head()"
   ]
  },
  {
   "cell_type": "markdown",
   "id": "76de6d86",
   "metadata": {},
   "source": [
    "## Step 1: Extracting word features and show Exploratory Data Analysis (EDA)\n",
    "The data appeared well maintained already with no null values in either of the training or testing data sets.\n",
    "\n",
    "All the training data is therefore classified (in the Category) column and a call to unique() will tell us the Category names."
   ]
  },
  {
   "cell_type": "code",
   "execution_count": 3,
   "id": "dde2edfa",
   "metadata": {
    "scrolled": false
   },
   "outputs": [
    {
     "name": "stdout",
     "output_type": "stream",
     "text": [
      "['business', 'tech', 'politics', 'sport', 'entertainment']\n",
      "\n",
      "<class 'pandas.core.frame.DataFrame'>\n",
      "RangeIndex: 1490 entries, 0 to 1489\n",
      "Data columns (total 3 columns):\n",
      " #   Column     Non-Null Count  Dtype \n",
      "---  ------     --------------  ----- \n",
      " 0   ArticleId  1490 non-null   int64 \n",
      " 1   Text       1490 non-null   object\n",
      " 2   Category   1490 non-null   object\n",
      "dtypes: int64(1), object(2)\n",
      "memory usage: 35.0+ KB\n",
      "None\n",
      "\n",
      "<class 'pandas.core.frame.DataFrame'>\n",
      "RangeIndex: 735 entries, 0 to 734\n",
      "Data columns (total 2 columns):\n",
      " #   Column     Non-Null Count  Dtype \n",
      "---  ------     --------------  ----- \n",
      " 0   ArticleId  735 non-null    int64 \n",
      " 1   Text       735 non-null    object\n",
      "dtypes: int64(1), object(1)\n",
      "memory usage: 11.6+ KB\n",
      "None\n"
     ]
    }
   ],
   "source": [
    "topics = df_train[\"Category\"].unique()\n",
    "\n",
    "print(topics.tolist())\n",
    "print()\n",
    "print(df_train.info())\n",
    "print()\n",
    "print(df_test.info())"
   ]
  },
  {
   "cell_type": "code",
   "execution_count": 4,
   "id": "d3b4c890",
   "metadata": {
    "scrolled": true
   },
   "outputs": [],
   "source": [
    "#df_train[\"Category\"] = df_train[\"Category\"].astype(\"category\")\n"
   ]
  },
  {
   "cell_type": "markdown",
   "id": "3ea898d6",
   "metadata": {},
   "source": [
    "### Histograms and Data Cleaning\n",
    "To get a better idea of the content of each category, a histogram of each categories top 20 words is plotted. Some common terms such as \"new\", \"said\", and \"year\" were intially cleaned from the data set in the cleanDataset function. But you'll notice those lines are now commented out as it was discovered leaving them in and then adjusting the maxDf hyperparameter (more on that later) gave a higher accuracy."
   ]
  },
  {
   "cell_type": "code",
   "execution_count": 9,
   "id": "3bec420b",
   "metadata": {
    "scrolled": false
   },
   "outputs": [
    {
     "data": {
      "image/png": "[encoded data removed]",
      "text/plain": [
       "<Figure size 432x288 with 1 Axes>"
      ]
     },
     "metadata": {
      "needs_background": "light"
     },
     "output_type": "display_data"
    },
    {
     "data": {
      "image/png": "[encoded data removed]",
      "text/plain": [
       "<Figure size 432x288 with 1 Axes>"
      ]
     },
     "metadata": {
      "needs_background": "light"
     },
     "output_type": "display_data"
    },
    {
     "data": {
      "image/png": "[encoded data removed]",
      "text/plain": [
       "<Figure size 432x288 with 1 Axes>"
      ]
     },
     "metadata": {
      "needs_background": "light"
     },
     "output_type": "display_data"
    },
    {
     "data": {
      "image/png": "[encoded data removed]",
      "text/plain": [
       "<Figure size 432x288 with 1 Axes>"
      ]
     },
     "metadata": {
      "needs_background": "light"
     },
     "output_type": "display_data"
    },
    {
     "data": {
      "image/png": "[encoded data removed]",
      "text/plain": [
       "<Figure size 432x288 with 1 Axes>"
      ]
     },
     "metadata": {
      "needs_background": "light"
     },
     "output_type": "display_data"
    }
   ],
   "source": [
    "n_topWords = 20\n",
    "    \n",
    "def replaceInDataframe(df, replace, to):\n",
    "    df.replace(to_replace = replace, value = to, inplace = True, regex = True)\n",
    "\n",
    "def cleanDataset(df):\n",
    "    replaceInDataframe(df, \"’\", \"\\'\")\n",
    "#    replaceInDataframe(df, \"\\\\s+mr\\\\s+\", \"\")\n",
    "#    replaceInDataframe(df, \"\\\\s+new\\\\s+\", \"\")\n",
    "#    replaceInDataframe(df, \"\\\\s+said\", \"\")\n",
    "#    replaceInDataframe(df, \"\\\\s+year\", \"\")\n",
    "    replaceInDataframe(df, \"\\\\d+\", \"\")\n",
    "\n",
    "def plotTopicHistogram(topic):\n",
    "    temp_df = df_train.loc[df_train[\"Category\"] == topic][\"Text\"]\n",
    "    tf = tf_vectorizer.fit_transform(temp_df)\n",
    "    plt.title(\"Top {} words in {}\".format(n_topWords, topic))\n",
    "    plt.bar(x = tf_vectorizer.get_feature_names_out(), height = np.sum(tf.toarray(), axis=0))\n",
    "    plt.xticks(rotation = 60)\n",
    "    plt.show()       \n",
    "    \n",
    "tf_vectorizer = CountVectorizer(max_df = 0.90, min_df = 2, max_features = n_topWords, stop_words = \"english\")\n",
    "for topic in topics:\n",
    "    plotTopicHistogram(topic)\n",
    "\n",
    "#Clean the data!    \n",
    "cleanDataset(df_train)\n",
    "cleanDataset(df_test)\n"
   ]
  },
  {
   "cell_type": "code",
   "execution_count": 20,
   "id": "772dc455",
   "metadata": {
    "scrolled": true
   },
   "outputs": [],
   "source": [
    "# Helper functions\n",
    "\n",
    "def makeLabelDict(labels):\n",
    "    workingDict = {}\n",
    "    for i in range(len(labels)):\n",
    "        workingDict[i] = labels[i]\n",
    "    return workingDict        \n",
    "\n",
    "def label_permute_compare(ytdf, yp, labelDict):\n",
    "    \"\"\"\n",
    "    ytdf: labels dataframe object\n",
    "    yp: clustering label prediction output\n",
    "    Returns permuted label order and accuracy. \n",
    "    Example output: (3, 4, 1, 2, 0), 0.74 \n",
    "    \"\"\"\n",
    "    permutations = list(itertools.permutations(range(len(labelDict))))\n",
    "    order = []\n",
    "    highAcc = 0\n",
    "    length = len(yp)\n",
    "    for permutation in permutations:\n",
    "        mapping = np.empty(length, dtype = object)\n",
    "        for i in range(length):\n",
    "            mapping[i] = labelDict[permutation[yp[i]]]\n",
    "        acc = metrics.accuracy_score(ytdf, mapping)\n",
    "        if acc > highAcc:\n",
    "            highAcc = acc\n",
    "            order = permutation\n",
    "    return order, highAcc       \n",
    "\n",
    "def fitNMF(tfidf, n_topicLabels, alpha, lossFunc, solverArg):\n",
    "    #print(\"Fitting the NMF model with {} loss function and solver {}\".format(lossFunc, solverArg))\n",
    "    nmf = NMF(\n",
    "        n_components = n_topicLabels,\n",
    "        random_state = randomState,\n",
    "        init = \"nndsvda\",\n",
    "        beta_loss = lossFunc,\n",
    "        solver = solverArg,\n",
    "        max_iter = 1000,\n",
    "        alpha_W = alpha,\n",
    "        alpha_H = alpha,\n",
    "        l1_ratio = 0.5,\n",
    "    ).fit(tfidf)\n",
    "    return nmf\n",
    "\n",
    "def predictions(w_matrix):\n",
    "    sortedW = np.argsort(w_matrix)\n",
    "    n_predictions, maxValue = sortedW.shape\n",
    "    predictions = [[sortedW[i][maxValue - 1]] for i in range(n_predictions)]\n",
    "    topics = np.empty(n_predictions, dtype = np.int64)\n",
    "    for i in range(n_predictions):\n",
    "        topics[i] = predictions[i][0]\n",
    "    return topics\n",
    "\n",
    "def outputModel(model, labelMap, labelDict):\n",
    "    feature_names = tfidf_vectorizer.get_feature_names_out()\n",
    "    print()\n",
    "    for topic_idx, topic in enumerate(model.components_):\n",
    "        print(\"Label: {}\".format(labelDict[labelMap[topic_idx]]))\n",
    "        print(\" \".join([feature_names[i]\n",
    "            for i in topic.argsort()[:-n_topWords - 1:-1]]))\n",
    "        print()\n"
   ]
  },
  {
   "cell_type": "markdown",
   "id": "99aed9e7",
   "metadata": {},
   "source": [
    "## Step 2: Building and Training Models\n",
    "I chose Non-Negative Matrix Factorization as my factorization method for the unsupervised learning approach. When training this model I used both the training and testing data sets because in an unsupervised clustering model, it is impossible to \"overfit\" the model to the testing data as the actual classification are not exposed to the modeling algorithm, not even for the training data. The algorithm is merely told how many clusters to create and matching those clusters to classifications for accuracy comes after the algorithm has been run.\n",
    "\n",
    "The accuracy on the training data using this technique was $\\approx$ 0.948 and Kaggle reported the accuracy on the testing data as $\\approx$ 0.932.  This accuracy level was achieved after some experimentation with the parameters to the TfidfVectorizer and essentially _not_ cleaning the data sets.\n",
    "\n",
    "Initially, the data sets were cleaned of words that occurred frequently (see histograms above) such as \"new\", \"said\", and \"year\" and the max_df of the TfidfVectorizer was set to 0.95.  But I found that leaving the frequent words in the data set and lowering the max_df to 0.90 increase the accuracy on the training data from 0.943 to 0.948."
   ]
  },
  {
   "cell_type": "code",
   "execution_count": 21,
   "id": "78fdea63",
   "metadata": {
    "scrolled": false
   },
   "outputs": [
    {
     "name": "stdout",
     "output_type": "stream",
     "text": [
      "Extracting tf-idf features for NMF...\n",
      "Got accuracy of: 0.9476510067114094\n",
      "Confusion Matrix:\n",
      "[[313   0  14   1   8]\n",
      " [  1 258   9   1   4]\n",
      " [  7   0 265   0   2]\n",
      " [  1   3  11 331   0]\n",
      " [  4   4   6   2 245]]\n",
      "\n",
      "Label: politics\n",
      "mr said labour government election blair party brown people minister law public howard eu told prime court police plans tax\n",
      "\n",
      "Label: sport\n",
      "game england win club said team match cup play world players injury ireland time season final wales year chelsea half\n",
      "\n",
      "Label: business\n",
      "bn said company growth market year bank firm economy sales shares oil china economic prices deal financial india business rise\n",
      "\n",
      "Label: entertainment\n",
      "film best music awards award star band tv year films album actor festival singer said director oscar won prize number\n",
      "\n",
      "Label: tech\n",
      "people mobile technology said software users phone digital computer use online games net internet music microsoft video service information broadband\n",
      "\n",
      "TF-IDF Vectorizer trained with with both training and test dataset got accuracy score on test dataset of: 0.93197\n"
     ]
    }
   ],
   "source": [
    "topicDict = makeLabelDict(topics)\n",
    "n_topics = len(topics)\n",
    "n_maxFeatures = n_topics * n_topWords * 10 # 5 x 20 x 10 = 1000\n",
    "\n",
    "print(\"Extracting tf-idf features for NMF...\")\n",
    "tfidf_vectorizer = TfidfVectorizer(max_df = 0.90, min_df = 2, max_features = n_maxFeatures, stop_words = \"english\")\n",
    "\n",
    "tfidf_all = tfidf_vectorizer.fit_transform(pd.concat([df_train[\"Text\"], df_test[\"Text\"]], ignore_index = True))\n",
    "nmfModel = fitNMF(tfidf_all, n_topics, \"kullback-leibler\", \"mu\")\n",
    "\n",
    "predictedTopics = predictions(nmfModel.transform(tfidf_all))\n",
    "labelOrder, acc = label_permute_compare(df_train[\"Category\"], predictedTopics[:len(df_train)], topicDict)\n",
    "print(\"Got accuracy of: {}\".format(acc))\n",
    "\n",
    "pred = []\n",
    "for i in range(len(df_train)):\n",
    "    pred.append(topicDict[labelOrder[predictedTopics[i]]])\n",
    "print(\"Confusion Matrix:\")\n",
    "print(metrics.confusion_matrix(df_train[\"Category\"], pred))\n",
    "\n",
    "outputModel(nmfModel, labelOrder, topicDict)\n",
    "\n",
    "testPredictions = []\n",
    "for i in predictedTopics[len(df_train):]:\n",
    "    testPredictions.append(topicDict[labelOrder[i]])\n",
    "data = {'ArticleId':df_test.ArticleId, 'Category':testPredictions}\n",
    "df = pd.DataFrame(data)\n",
    "try:\n",
    "    df.to_csv(\"C:\\\\Users\\\\clayv\\Desktop\\\\BBCNews.csv\", index = False)\n",
    "except:\n",
    "    pass\n",
    "#print(\"TF-IDF Vectorizer trained with only training dataset got accuracy score on test dataset of: 0.38911\")\n",
    "print(\"TF-IDF Vectorizer trained with with both training and test dataset got accuracy score on test dataset of: 0.93197\")"
   ]
  },
  {
   "cell_type": "markdown",
   "id": "678e0ac3",
   "metadata": {
    "scrolled": true
   },
   "source": [
    "### Trying different hyperparameters\n",
    "When trying different hyperparameters, I was unable to find a combination that gave a higher accuracy.  A table of the parameters tried is below and this is after the aforementioned tuning of the TfidfVectorizer and \"uncleaning\" the data."
   ]
  },
  {
   "cell_type": "code",
   "execution_count": 37,
   "id": "8787389a",
   "metadata": {
    "scrolled": false
   },
   "outputs": [
    {
     "name": "stdout",
     "output_type": "stream",
     "text": [
      "Loss Function\tSolver\tAlpha\t\t\t\tAccuracy\n",
      "frobenius\tcd\t0.0\t\t\t\t0.8906040268456376\n",
      "frobenius\tcd\t1e-05\t\t\t\t0.8906040268456376\n",
      "frobenius\tcd\t2e-05\t\t\t\t0.8906040268456376\n",
      "frobenius\tcd\t3.0000000000000004e-05\t\t\t\t0.8906040268456376\n",
      "frobenius\tcd\t4e-05\t\t\t\t0.8906040268456376\n",
      "frobenius\tcd\t5e-05\t\t\t\t0.8906040268456376\n",
      "frobenius\tcd\t6.000000000000001e-05\t\t\t\t0.8906040268456376\n",
      "frobenius\tcd\t7.000000000000001e-05\t\t\t\t0.8906040268456376\n",
      "frobenius\tcd\t8e-05\t\t\t\t0.8906040268456376\n",
      "frobenius\tcd\t9e-05\t\t\t\t0.8906040268456376\n",
      "frobenius\tmu\t0.0\t\t\t\t0.8986577181208054\n",
      "frobenius\tmu\t1e-05\t\t\t\t0.8986577181208054\n",
      "frobenius\tmu\t2e-05\t\t\t\t0.8986577181208054\n",
      "frobenius\tmu\t3.0000000000000004e-05\t\t\t\t0.8986577181208054\n",
      "frobenius\tmu\t4e-05\t\t\t\t0.8986577181208054\n",
      "frobenius\tmu\t5e-05\t\t\t\t0.8986577181208054\n",
      "frobenius\tmu\t6.000000000000001e-05\t\t\t\t0.8986577181208054\n",
      "frobenius\tmu\t7.000000000000001e-05\t\t\t\t0.8986577181208054\n",
      "frobenius\tmu\t8e-05\t\t\t\t0.8986577181208054\n",
      "frobenius\tmu\t9e-05\t\t\t\t0.8986577181208054\n",
      "kullback-leibler\tmu\t0.0\t\t\t\t0.9476510067114094\n",
      "kullback-leibler\tmu\t1e-05\t\t\t\t0.9476510067114094\n",
      "kullback-leibler\tmu\t2e-05\t\t\t\t0.9476510067114094\n",
      "kullback-leibler\tmu\t3.0000000000000004e-05\t\t\t\t0.9476510067114094\n",
      "kullback-leibler\tmu\t4e-05\t\t\t\t0.9476510067114094\n",
      "kullback-leibler\tmu\t5e-05\t\t\t\t0.9476510067114094\n",
      "kullback-leibler\tmu\t6.000000000000001e-05\t\t\t\t0.9476510067114094\n",
      "kullback-leibler\tmu\t7.000000000000001e-05\t\t\t\t0.9476510067114094\n",
      "kullback-leibler\tmu\t8e-05\t\t\t\t0.9476510067114094\n",
      "kullback-leibler\tmu\t9e-05\t\t\t\t0.9476510067114094\n",
      "\n",
      "Highest accuracy was: 0.9476510067114094 with kullback-leibler, mu and alpha: 0.0\n"
     ]
    }
   ],
   "source": [
    "lossFuncs = [\"frobenius\", \"kullback-leibler\", \"itakura-saito\"]\n",
    "solvers = [\"cd\", \"mu\"]\n",
    "alphas = np.arange(0.0, 0.00010, 0.00001)\n",
    "maxAcc = 0\n",
    "print(\"Loss Function\\tSolver\\tAlpha\\t\\t\\t\\tAccuracy\")\n",
    "for lossFunc in lossFuncs:\n",
    "    for solver in solvers:\n",
    "        for alpha in alphas:\n",
    "            try:\n",
    "                nmfModel = fitNMF(tfidf_all, n_topics, lossFunc, solver)\n",
    "                predictedTopics = predictions(nmfModel.transform(tfidf_all))\n",
    "                labelOrder, acc = label_permute_compare(df_train[\"Category\"], predictedTopics[:len(df_train)], topicDict)\n",
    "                print(\"{}\\t{}\\t{}\\t\\t\\t\\t{}\".format(lossFunc, solver, alpha, acc))\n",
    "                if acc > maxAcc:\n",
    "                    bestLossFunc, bestSolver, bestAlpha, maxAcc = lossFunc, solver, alpha, acc\n",
    "            except:\n",
    "                pass\n",
    "print()\n",
    "print(\"Highest accuracy was: {} with {}, {} and alpha: {}\".format(maxAcc, bestLossFunc, bestSolver, bestAlpha))    \n"
   ]
  },
  {
   "cell_type": "code",
   "execution_count": null,
   "id": "a1463091",
   "metadata": {},
   "outputs": [],
   "source": []
  }
 ],
 "metadata": {
  "kernelspec": {
   "display_name": "Python 3 (ipykernel)",
   "language": "python",
   "name": "python3"
  },
  "language_info": {
   "codemirror_mode": {
    "name": "ipython",
    "version": 3
   },
   "file_extension": ".py",
   "mimetype": "text/x-python",
   "name": "python",
   "nbconvert_exporter": "python",
   "pygments_lexer": "ipython3",
   "version": "3.9.12"
  }
 },
 "nbformat": 4,
 "nbformat_minor": 5
}
