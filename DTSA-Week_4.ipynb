{
 "cells": [
  {
   "cell_type": "markdown",
   "id": "8c7a2d44",
   "metadata": {},
   "source": [
    "# DTSA-5510 Week 4 Programming Assignment: BBC News Classification\n",
    "### May 29, 2022\n",
    "\n",
    "\n",
    "# NOTE: Part 2 is at the bottom of this notebook!\n",
    "\n",
    "\n",
    "## Part 1:  Matrix Factorization of BBC News Stories - A Kaggle Competition\n",
    "### Introduction\n",
    "\n",
    "This is the Week 3 project for DTSA-5510, Unsupervised Algorithms in Machine Learning, and performs unsupervised learning algorithms to [BBC news stories](https://www.kaggle.com/competitions/learn-ai-bbc/overview) from a machine learning competition on [Kaggle](https://www.kaggle.com).\n",
    "  \n",
    "This project attempts to categorize or cluster BBC news stories based on the textual content of the story. After binning the stories, the bins are assigned the category names based on the highest predictive score and then these names are compared to the test data to determine the accuracy of the unsupervised learning method.\n",
    "\n",
    "This Jupyter notebook along with the data used to this create report can be found at and cloned from https://github.com/clayv/DTSA-5510_Week_4.\n",
    "\n",
    "**References:**  \n",
    "Beysolow, T. (2018). _Applied Natural Language Processing with Python_. Apress  \n",
    "Nixon, A. (2020, August 28). Building a movie content based recommender using tf-idf. Towards Data Science. https://towardsdatascience.com/content-based-recommender-systems-28a1dbd858f5\n"
   ]
  },
  {
   "cell_type": "code",
   "execution_count": 1,
   "id": "97865735",
   "metadata": {
    "scrolled": false
   },
   "outputs": [],
   "source": [
    "import itertools\n",
    "import matplotlib.pylab as plt\n",
    "import numpy as np\n",
    "import pandas as pd\n",
    "from sklearn.feature_extraction.text import TfidfVectorizer, CountVectorizer\n",
    "from sklearn.decomposition import NMF\n",
    "import sklearn.metrics as metrics \n",
    "\n",
    "#Set a global random state (set to 'None' if reproducible results are not desired)\n",
    "randomState = 42"
   ]
  },
  {
   "cell_type": "markdown",
   "id": "fe09356a",
   "metadata": {},
   "source": [
    "### Step 0: Load the data"
   ]
  },
  {
   "cell_type": "code",
   "execution_count": 2,
   "id": "7e98c226",
   "metadata": {
    "scrolled": true
   },
   "outputs": [
    {
     "data": {
      "text/html": [
       "<div>\n",
       "<style scoped>\n",
       "    .dataframe tbody tr th:only-of-type {\n",
       "        vertical-align: middle;\n",
       "    }\n",
       "\n",
       "    .dataframe tbody tr th {\n",
       "        vertical-align: top;\n",
       "    }\n",
       "\n",
       "    .dataframe thead th {\n",
       "        text-align: right;\n",
       "    }\n",
       "</style>\n",
       "<table border=\"1\" class=\"dataframe\">\n",
       "  <thead>\n",
       "    <tr style=\"text-align: right;\">\n",
       "      <th></th>\n",
       "      <th>ArticleId</th>\n",
       "      <th>Text</th>\n",
       "      <th>Category</th>\n",
       "    </tr>\n",
       "  </thead>\n",
       "  <tbody>\n",
       "    <tr>\n",
       "      <th>0</th>\n",
       "      <td>1833</td>\n",
       "      <td>worldcom ex-boss launches defence lawyers defe...</td>\n",
       "      <td>business</td>\n",
       "    </tr>\n",
       "    <tr>\n",
       "      <th>1</th>\n",
       "      <td>154</td>\n",
       "      <td>german business confidence slides german busin...</td>\n",
       "      <td>business</td>\n",
       "    </tr>\n",
       "    <tr>\n",
       "      <th>2</th>\n",
       "      <td>1101</td>\n",
       "      <td>bbc poll indicates economic gloom citizens in ...</td>\n",
       "      <td>business</td>\n",
       "    </tr>\n",
       "    <tr>\n",
       "      <th>3</th>\n",
       "      <td>1976</td>\n",
       "      <td>lifestyle  governs mobile choice  faster  bett...</td>\n",
       "      <td>tech</td>\n",
       "    </tr>\n",
       "    <tr>\n",
       "      <th>4</th>\n",
       "      <td>917</td>\n",
       "      <td>enron bosses in $168m payout eighteen former e...</td>\n",
       "      <td>business</td>\n",
       "    </tr>\n",
       "  </tbody>\n",
       "</table>\n",
       "</div>"
      ],
      "text/plain": [
       "   ArticleId                                               Text  Category\n",
       "0       1833  worldcom ex-boss launches defence lawyers defe...  business\n",
       "1        154  german business confidence slides german busin...  business\n",
       "2       1101  bbc poll indicates economic gloom citizens in ...  business\n",
       "3       1976  lifestyle  governs mobile choice  faster  bett...      tech\n",
       "4        917  enron bosses in $168m payout eighteen former e...  business"
      ]
     },
     "execution_count": 2,
     "metadata": {},
     "output_type": "execute_result"
    }
   ],
   "source": [
    "df_train = pd.read_csv(\"data/BBC News Train.csv.zip\", compression=\"zip\")\n",
    "df_test = pd.read_csv(\"data/BBC News Test.csv.zip\", compression=\"zip\")\n",
    "df_train.head()"
   ]
  },
  {
   "cell_type": "markdown",
   "id": "76de6d86",
   "metadata": {},
   "source": [
    "### Step 1: Extracting word features and show Exploratory Data Analysis (EDA)\n",
    "The data appeared well maintained already with no null values in either of the training or testing data sets.\n",
    "\n",
    "All the training data is therefore classified (in the Category) column and a call to unique() will tell us the Category names."
   ]
  },
  {
   "cell_type": "code",
   "execution_count": 3,
   "id": "dde2edfa",
   "metadata": {
    "scrolled": false
   },
   "outputs": [
    {
     "name": "stdout",
     "output_type": "stream",
     "text": [
      "['business', 'tech', 'politics', 'sport', 'entertainment']\n",
      "\n",
      "<class 'pandas.core.frame.DataFrame'>\n",
      "RangeIndex: 1490 entries, 0 to 1489\n",
      "Data columns (total 3 columns):\n",
      " #   Column     Non-Null Count  Dtype \n",
      "---  ------     --------------  ----- \n",
      " 0   ArticleId  1490 non-null   int64 \n",
      " 1   Text       1490 non-null   object\n",
      " 2   Category   1490 non-null   object\n",
      "dtypes: int64(1), object(2)\n",
      "memory usage: 35.0+ KB\n",
      "None\n",
      "\n",
      "<class 'pandas.core.frame.DataFrame'>\n",
      "RangeIndex: 735 entries, 0 to 734\n",
      "Data columns (total 2 columns):\n",
      " #   Column     Non-Null Count  Dtype \n",
      "---  ------     --------------  ----- \n",
      " 0   ArticleId  735 non-null    int64 \n",
      " 1   Text       735 non-null    object\n",
      "dtypes: int64(1), object(1)\n",
      "memory usage: 11.6+ KB\n",
      "None\n"
     ]
    }
   ],
   "source": [
    "topics = df_train[\"Category\"].unique()\n",
    "\n",
    "print(topics.tolist())\n",
    "print()\n",
    "print(df_train.info())\n",
    "print()\n",
    "print(df_test.info())"
   ]
  },
  {
   "cell_type": "code",
   "execution_count": 4,
   "id": "d3b4c890",
   "metadata": {
    "scrolled": true
   },
   "outputs": [],
   "source": [
    "#df_train[\"Category\"] = df_train[\"Category\"].astype(\"category\")\n"
   ]
  },
  {
   "cell_type": "markdown",
   "id": "3ea898d6",
   "metadata": {},
   "source": [
    "#### Histograms and Data Cleaning\n",
    "To get a better idea of the content of each category, a histogram of each categories top 20 words is plotted. Some common terms such as \"new\", \"said\", and \"year\" were intially cleaned from the data set in the cleanDataset function. But you'll notice those lines are now commented out as it was discovered leaving them in and then adjusting the maxDf hyperparameter (more on that later) gave a higher accuracy."
   ]
  },
  {
   "cell_type": "code",
   "execution_count": 4,
   "id": "3bec420b",
   "metadata": {
    "scrolled": false
   },
   "outputs": [
    {
     "data": {
      "image/png": "[encoded data removed]",
      "text/plain": [
       "<Figure size 432x288 with 1 Axes>"
      ]
     },
     "metadata": {
      "needs_background": "light"
     },
     "output_type": "display_data"
    },
    {
     "data": {
      "image/png": "[encoded data removed]",
      "text/plain": [
       "<Figure size 432x288 with 1 Axes>"
      ]
     },
     "metadata": {
      "needs_background": "light"
     },
     "output_type": "display_data"
    },
    {
     "data": {
      "image/png": "[encoded data removed]",
      "text/plain": [
       "<Figure size 432x288 with 1 Axes>"
      ]
     },
     "metadata": {
      "needs_background": "light"
     },
     "output_type": "display_data"
    },
    {
     "data": {
      "image/png": "[encoded data removed]",
      "text/plain": [
       "<Figure size 432x288 with 1 Axes>"
      ]
     },
     "metadata": {
      "needs_background": "light"
     },
     "output_type": "display_data"
    },
    {
     "data": {
      "image/png": "[encoded data removed]",
      "text/plain": [
       "<Figure size 432x288 with 1 Axes>"
      ]
     },
     "metadata": {
      "needs_background": "light"
     },
     "output_type": "display_data"
    }
   ],
   "source": [
    "n_topWords = 20\n",
    "    \n",
    "def replaceInDataframe(df, replace, to):\n",
    "    df.replace(to_replace = replace, value = to, inplace = True, regex = True)\n",
    "\n",
    "def cleanDataset(df):\n",
    "    replaceInDataframe(df, \"’\", \"\\'\")\n",
    "#    replaceInDataframe(df, \"\\\\s+mr\\\\s+\", \"\")\n",
    "#    replaceInDataframe(df, \"\\\\s+new\\\\s+\", \"\")\n",
    "#    replaceInDataframe(df, \"\\\\s+said\", \"\")\n",
    "#    replaceInDataframe(df, \"\\\\s+year\", \"\")\n",
    "    replaceInDataframe(df, \"\\\\d+\", \"\")\n",
    "\n",
    "def plotTopicHistogram(topic):\n",
    "    temp_df = df_train.loc[df_train[\"Category\"] == topic][\"Text\"]\n",
    "    tf = tf_vectorizer.fit_transform(temp_df)\n",
    "    plt.title(\"Top {} words in {}\".format(n_topWords, topic))\n",
    "    plt.bar(x = tf_vectorizer.get_feature_names_out(), height = np.sum(tf.toarray(), axis=0))\n",
    "    plt.xticks(rotation = 60)\n",
    "    plt.show()       \n",
    "    \n",
    "tf_vectorizer = CountVectorizer(max_df = 0.90, min_df = 2, max_features = n_topWords, stop_words = \"english\")\n",
    "for topic in topics:\n",
    "    plotTopicHistogram(topic)\n",
    "\n",
    "#Clean the data!    \n",
    "cleanDataset(df_train)\n",
    "cleanDataset(df_test)\n"
   ]
  },
  {
   "cell_type": "code",
   "execution_count": 5,
   "id": "772dc455",
   "metadata": {
    "scrolled": true
   },
   "outputs": [],
   "source": [
    "# Helper functions\n",
    "\n",
    "def makeLabelDict(labels):\n",
    "    workingDict = {}\n",
    "    for i in range(len(labels)):\n",
    "        workingDict[i] = labels[i]\n",
    "    return workingDict        \n",
    "\n",
    "def label_permute_compare(ytdf, yp, labelDict):\n",
    "    \"\"\"\n",
    "    ytdf: labels dataframe object\n",
    "    yp: clustering label prediction output\n",
    "    Returns permuted label order and accuracy. \n",
    "    Example output: (3, 4, 1, 2, 0), 0.74 \n",
    "    \"\"\"\n",
    "    permutations = list(itertools.permutations(range(len(labelDict))))\n",
    "    order = []\n",
    "    highAcc = 0\n",
    "    length = len(yp)\n",
    "    for permutation in permutations:\n",
    "        mapping = np.empty(length, dtype = object)\n",
    "        for i in range(length):\n",
    "            mapping[i] = labelDict[permutation[yp[i]]]\n",
    "        acc = metrics.accuracy_score(ytdf, mapping)\n",
    "        if acc > highAcc:\n",
    "            highAcc = acc\n",
    "            order = permutation\n",
    "    return order, highAcc       \n",
    "\n",
    "def fitNMF(tfidf, n_topicLabels, alpha, lossFunc, solverArg):\n",
    "    #print(\"Fitting the NMF model with {} loss function and solver {}\".format(lossFunc, solverArg))\n",
    "    nmf = NMF(\n",
    "        n_components = n_topicLabels,\n",
    "        random_state = randomState,\n",
    "        init = \"nndsvda\",\n",
    "        beta_loss = lossFunc,\n",
    "        solver = solverArg,\n",
    "        max_iter = 1000,\n",
    "        alpha_W = alpha,\n",
    "        alpha_H = alpha,\n",
    "        l1_ratio = 0.5,\n",
    "    ).fit(tfidf)\n",
    "    return nmf\n",
    "\n",
    "def predictions(w_matrix):\n",
    "    sortedW = np.argsort(w_matrix)\n",
    "    n_predictions, maxValue = sortedW.shape\n",
    "    predictions = [[sortedW[i][maxValue - 1]] for i in range(n_predictions)]\n",
    "    topics = np.empty(n_predictions, dtype = np.int64)\n",
    "    for i in range(n_predictions):\n",
    "        topics[i] = predictions[i][0]\n",
    "    return topics\n",
    "\n",
    "def outputModel(model, labelMap, labelDict):\n",
    "    feature_names = tfidf_vectorizer.get_feature_names_out()\n",
    "    print()\n",
    "    for topic_idx, topic in enumerate(model.components_):\n",
    "        print(\"Label: {}\".format(labelDict[labelMap[topic_idx]]))\n",
    "        print(\" \".join([feature_names[i]\n",
    "            for i in topic.argsort()[:-n_topWords - 1:-1]]))\n",
    "        print()\n"
   ]
  },
  {
   "cell_type": "markdown",
   "id": "99aed9e7",
   "metadata": {},
   "source": [
    "### Step 2: Building and Training Models\n",
    "I chose Non-Negative Matrix Factorization as my factorization method for the unsupervised learning approach. When training this model I used the only training data sets.  I chose this method because I would like to see how the model will perform on data not yet created.  This would be useful to properly place articles in the correct section of an online newspaper or to suggest new articles as they are written to the readers.\n",
    "\n",
    "The accuracy on the training data using this technique was $\\approx$ 0.9497 and Kaggle reported the accuracy on the testing data as $\\approx$ 0.9320.  This accuracy level was achieved after some experimentation with the parameters to the TfidfVectorizer and essentially _not_ cleaning the data sets.\n",
    "\n",
    "Initially, the data sets were cleaned of words that occurred frequently (see histograms above) such as \"new\", \"said\", and \"year\" and the max_df of the TfidfVectorizer was set to 0.95.  But I found that leaving the frequent words in the data set and lowering the max_df to 0.90 increased the accuracy on the training data from $\\approx$ 0.943 to the 0.9497 figure given earlier."
   ]
  },
  {
   "cell_type": "code",
   "execution_count": 6,
   "id": "ea1a383a",
   "metadata": {},
   "outputs": [
    {
     "name": "stdout",
     "output_type": "stream",
     "text": [
      "Extracting tf-idf features for NMF...\n",
      "Got accuracy of: 0.9496644295302014\n",
      "Confusion Matrix:\n",
      "[[314   0  12   1   9]\n",
      " [  1 258  10   0   4]\n",
      " [ 13   0 259   0   2]\n",
      " [  1   3   1 341   0]\n",
      " [  4   4   6   4 243]]\n",
      "\n",
      "Label: business\n",
      "bn said company firm market year growth bank economy shares sales china oil deal mr economic india financial business prices\n",
      "\n",
      "Label: sport\n",
      "game england win said club team cup players world match season time play final ireland chelsea injury wales year half\n",
      "\n",
      "Label: politics\n",
      "mr said labour election government blair party brown minister people prime public howard law secretary police plans tax lord told\n",
      "\n",
      "Label: entertainment\n",
      "film best awards music star band award actor films tv album year singer said festival oscar won number director chart\n",
      "\n",
      "Label: tech\n",
      "people mobile said technology phone software users digital use internet computer online microsoft net service games music mail information search\n",
      "\n"
     ]
    }
   ],
   "source": [
    "topicDict = makeLabelDict(topics)\n",
    "n_topics = len(topics)\n",
    "n_maxFeatures = n_topics * n_topWords * 10 # 5 x 20 x 10 = 1000\n",
    "\n",
    "print(\"Extracting tf-idf features for NMF...\")\n",
    "tfidf_vectorizer = TfidfVectorizer(max_df = 0.90, min_df = 2, max_features = n_maxFeatures, stop_words = \"english\")\n",
    "\n",
    "tfidf_train = tfidf_vectorizer.fit_transform(df_train[\"Text\"])\n",
    "nmfModel = fitNMF(tfidf_train, n_topics, 0.00005, \"kullback-leibler\", \"mu\")\n",
    "\n",
    "y_hatTrain = predictions(nmfModel.transform(tfidf_train))\n",
    "labelOrder, acc = label_permute_compare(df_train[\"Category\"], y_hatTrain, topicDict)\n",
    "print(\"Got accuracy of: {}\".format(acc))\n",
    "\n",
    "predTrain = []\n",
    "for i in y_hatTrain:\n",
    "    predTrain.append(topicDict[labelOrder[i]])\n",
    "print(\"Confusion Matrix:\")\n",
    "print(metrics.confusion_matrix(df_train[\"Category\"], predTrain))\n",
    "\n",
    "outputModel(nmfModel, labelOrder, topicDict)\n"
   ]
  },
  {
   "cell_type": "code",
   "execution_count": 7,
   "id": "634dd894",
   "metadata": {},
   "outputs": [
    {
     "name": "stdout",
     "output_type": "stream",
     "text": [
      "TF-IDF Vectorizer trained with with only test dataset when submitted got accuracy score of: 0.93197\n"
     ]
    }
   ],
   "source": [
    "# Test the model fitted above\n",
    "\n",
    "# Use the same vectorizer, but only call transfrom instead of fit_transform\n",
    "tfidf_test = tfidf_vectorizer.transform(df_test[\"Text\"])\n",
    "\n",
    "# Use the same nmfmodel (note no call to the fitNMF helper function)\n",
    "y_hatTest = predictions(nmfModel.transform(tfidf_test))\n",
    "\n",
    "# Generate the CSV file for submission to Kaggle\n",
    "predTest = []\n",
    "for i in y_hatTest:\n",
    "    predTest.append(topicDict[labelOrder[i]])\n",
    "data = {'ArticleId':df_test.ArticleId, 'Category':predTest}\n",
    "df = pd.DataFrame(data)\n",
    "try:\n",
    "    df.to_csv(\"C:\\\\Users\\\\clayv\\Desktop\\\\BBCNews.csv\", index = False)\n",
    "except:\n",
    "    pass\n",
    "print(\"TF-IDF Vectorizer trained with with only test dataset when submitted got accuracy score of: 0.93197\")"
   ]
  },
  {
   "cell_type": "markdown",
   "id": "678e0ac3",
   "metadata": {
    "scrolled": true
   },
   "source": [
    "#### Trying different hyperparameters\n",
    "When trying different hyperparameters, I was able to find a combination that gave a higher accuracy than $\\approx$ 0.9497. By using kullback-leibler loss finction, the \"mu\", and an alpha of 0.00009 an accuracy of $\\approx$ 0.9503 was achieved. A table of the parameters tried is below and this is after the aforementioned tuning of the TfidfVectorizer and \"uncleaning\" the data."
   ]
  },
  {
   "cell_type": "code",
   "execution_count": 9,
   "id": "8787389a",
   "metadata": {
    "scrolled": false
   },
   "outputs": [
    {
     "name": "stdout",
     "output_type": "stream",
     "text": [
      "Loss Function\tSolver\tAlpha\t\t\t\tAccuracy\n",
      "frobenius\tcd\t0.0\t\t\t\t0.8906040268456376\n",
      "frobenius\tcd\t1e-05\t\t\t\t0.8946308724832215\n",
      "frobenius\tcd\t2e-05\t\t\t\t0.8932885906040269\n",
      "frobenius\tcd\t3.0000000000000004e-05\t\t\t\t0.8926174496644296\n",
      "frobenius\tcd\t4e-05\t\t\t\t0.8906040268456376\n",
      "frobenius\tcd\t5e-05\t\t\t\t0.889261744966443\n",
      "frobenius\tcd\t6.000000000000001e-05\t\t\t\t0.8859060402684564\n",
      "frobenius\tcd\t7.000000000000001e-05\t\t\t\t0.8838926174496644\n",
      "frobenius\tcd\t8e-05\t\t\t\t0.8812080536912752\n",
      "frobenius\tcd\t9e-05\t\t\t\t0.8791946308724832\n",
      "frobenius\tmu\t0.0\t\t\t\t0.8973154362416107\n",
      "frobenius\tmu\t1e-05\t\t\t\t0.8932885906040269\n",
      "frobenius\tmu\t2e-05\t\t\t\t0.889261744966443\n",
      "frobenius\tmu\t3.0000000000000004e-05\t\t\t\t0.8906040268456376\n",
      "frobenius\tmu\t4e-05\t\t\t\t0.8885906040268456\n",
      "frobenius\tmu\t5e-05\t\t\t\t0.8885906040268456\n",
      "frobenius\tmu\t6.000000000000001e-05\t\t\t\t0.8865771812080537\n",
      "frobenius\tmu\t7.000000000000001e-05\t\t\t\t0.8865771812080537\n",
      "frobenius\tmu\t8e-05\t\t\t\t0.887248322147651\n",
      "frobenius\tmu\t9e-05\t\t\t\t0.885234899328859\n",
      "kullback-leibler\tmu\t0.0\t\t\t\t0.9496644295302014\n",
      "kullback-leibler\tmu\t1e-05\t\t\t\t0.9496644295302014\n",
      "kullback-leibler\tmu\t2e-05\t\t\t\t0.9496644295302014\n",
      "kullback-leibler\tmu\t3.0000000000000004e-05\t\t\t\t0.9496644295302014\n",
      "kullback-leibler\tmu\t4e-05\t\t\t\t0.9496644295302014\n",
      "kullback-leibler\tmu\t5e-05\t\t\t\t0.9496644295302014\n",
      "kullback-leibler\tmu\t6.000000000000001e-05\t\t\t\t0.9496644295302014\n",
      "kullback-leibler\tmu\t7.000000000000001e-05\t\t\t\t0.9496644295302014\n",
      "kullback-leibler\tmu\t8e-05\t\t\t\t0.9496644295302014\n",
      "kullback-leibler\tmu\t9e-05\t\t\t\t0.9503355704697987\n",
      "\n",
      "Highest accuracy was: 0.9503355704697987 with kullback-leibler, mu and alpha: 9e-05\n"
     ]
    }
   ],
   "source": [
    "lossFuncs = [\"frobenius\", \"kullback-leibler\", \"itakura-saito\"]\n",
    "solvers = [\"cd\", \"mu\"]\n",
    "alphas = np.arange(0.0, 0.00010, 0.00001)\n",
    "maxAcc = 0\n",
    "print(\"Loss Function\\tSolver\\tAlpha\\t\\t\\t\\tAccuracy\")\n",
    "for lossFunc in lossFuncs:\n",
    "    for solver in solvers:\n",
    "        for alpha in alphas:\n",
    "            try:\n",
    "                nmfModel = fitNMF(tfidf_train, n_topics, alpha, lossFunc, solver)\n",
    "                predictedTopics = predictions(nmfModel.transform(tfidf_train))\n",
    "                labelOrder, acc = label_permute_compare(df_train[\"Category\"], predictedTopics, topicDict)\n",
    "                print(\"{}\\t{}\\t{}\\t\\t\\t\\t{}\".format(lossFunc, solver, alpha, acc))\n",
    "                if acc > maxAcc:\n",
    "                    bestLossFunc, bestSolver, bestAlpha, maxAcc = lossFunc, solver, alpha, acc\n",
    "            except:\n",
    "                pass\n",
    "print()\n",
    "print(\"Highest accuracy was: {} with {}, {} and alpha: {}\".format(maxAcc, bestLossFunc, bestSolver, bestAlpha))    \n"
   ]
  },
  {
   "cell_type": "markdown",
   "id": "61679e74",
   "metadata": {},
   "source": [
    "#### Improving the model\n",
    "By trying out different values for the max_features and max_df argumentss to the TFidfVectorizer, through trial and error I was able to improve the accuract of the model further. Interestingly, the most improvement was found by leaving the number of features the same as the earlier model and decreasing max_df to 0.37. This change improved the accuracy from $\\approx$0.9503 to $\\approx$ 0.9530."
   ]
  },
  {
   "cell_type": "code",
   "execution_count": 12,
   "id": "be2bbdfa",
   "metadata": {},
   "outputs": [
    {
     "name": "stdout",
     "output_type": "stream",
     "text": [
      "Extracting tf-idf features for NMF...\n",
      "Got accuracy of: 0.9530201342281879\n"
     ]
    }
   ],
   "source": [
    "print(\"Extracting tf-idf features for NMF...\")\n",
    "tfidf_vectorizer_imp = TfidfVectorizer(max_df = 0.37, min_df = 2, max_features = n_maxFeatures, stop_words = \"english\")\n",
    "\n",
    "tfidf_train_imp = tfidf_vectorizer_imp.fit_transform(df_train[\"Text\"])\n",
    "nmfModel = fitNMF(tfidf_train_imp, n_topics, 0, \"kullback-leibler\", \"mu\")\n",
    "\n",
    "y_hatImp = predictions(nmfModel.transform(tfidf_train_imp))\n",
    "labelOrder, acc = label_permute_compare(df_train[\"Category\"], y_hatImp, topicDict)\n",
    "print(\"Got accuracy of: {}\".format(acc))"
   ]
  },
  {
   "cell_type": "markdown",
   "id": "fbdb0656",
   "metadata": {},
   "source": [
    "### Step 3: Compare with Supervised Learning\n",
    "I decided to try two different models, Random Forest and K-Means as the supervised methods to try compare against. To my suprise I was able to get a **perfect** classifier on the training data using Random Forest with a much smaller number of features without the testing accuracy decreasing as all in comparison to the NMF model. I reduced the the number of features from 1,000 to only 200 and the accuracy on the testing data still $\\approx$ 0.9530. If the number of features remained the same at 1,000, then the testing accuracy was even higher than NMF at $\\approx$ 0.9664!\n",
    "\n",
    "With the success of the Random Forest, I wanted to see how K-Means would compare using the same inputs so no changes were made to enable an \"apples to apples' comparison. K-Means was a relative diappointment though with this technique as accuracy on the training/testing data dropped to $\\approx$ 0.8020 and 0.8456 respectively.\n",
    "\n",
    "As the Random Forest classifier just a well as NMF using a much smaller feature set, it would be difficult to choose NMF in this use case.  However, if the data set was _much_ larger it might be not be possible to use a Random Forest classifier due to memory resrtictions, so the a feature reducing model such as NMF might be needed."
   ]
  },
  {
   "cell_type": "code",
   "execution_count": 55,
   "id": "be90fe79",
   "metadata": {},
   "outputs": [],
   "source": [
    "from sklearn.cluster import KMeans\n",
    "import sklearn.metrics\n",
    "from sklearn.model_selection import train_test_split"
   ]
  },
  {
   "cell_type": "code",
   "execution_count": 72,
   "id": "3e21b6a5",
   "metadata": {},
   "outputs": [
    {
     "name": "stdout",
     "output_type": "stream",
     "text": [
      "Confusion Matrix on Training Data - A Perfect Score!:\n",
      "[[261   0   0   0   0]\n",
      " [  0 227   0   0   0]\n",
      " [  0   0 218   0   0]\n",
      " [  0   0   0 283   0]\n",
      " [  0   0   0   0 203]]\n",
      "\n",
      "Metrics on Test Data using Random Forest:\n",
      "Accuracy: 0.9530201342281879\n",
      "Precision: 0.9531405826843485\n",
      "Recall: 0.95296090050213\n",
      "F1 score: 0.9527587212970507\n",
      "\n",
      "Confusion Matrix on Test Data:\n",
      "[[70  0  3  1  1]\n",
      " [ 2 43  0  1  0]\n",
      " [ 1  0 54  1  0]\n",
      " [ 0  0  1 62  0]\n",
      " [ 0  2  1  0 55]]\n"
     ]
    }
   ],
   "source": [
    "from sklearn.ensemble import RandomForestClassifier\n",
    "\n",
    "df_train.Category = df_train.Category.astype(\"category\")\n",
    "y = df_train.Category.values\n",
    "X = df_train.Text.values\n",
    "X_train, X_test, y_train, y_test = train_test_split(X, y, test_size = .2, random_state = randomState)\n",
    "\n",
    "# Create a new vectorizer for training the supervised models\n",
    "tfidf_vectorizerSup = TfidfVectorizer(max_df = 0.37, min_df = 2, max_features = 200, stop_words = \"english\")\n",
    "\n",
    "# Fit a TF-IDF model and transform the training data into the matrix for input supervised models\n",
    "tfidf_trainSup = tfidf_vectorizerSup.fit_transform(X_train)\n",
    "\n",
    "# Create the Random Forest model\n",
    "rfModel = RandomForestClassifier().fit(tfidf_trainSup, y_train)\n",
    "print(\"Confusion Matrix on Training Data - A Perfect Score!:\")\n",
    "print(metrics.confusion_matrix(y_train, rfModel.predict(tfidf_trainSup)))\n",
    "\n",
    "# ONLY transform the test data (do not fit)\n",
    "tfidf_testSup = tfidf_vectorizerSup.transform(X_test)\n",
    "\n",
    "y_predRF = rfModel.predict(tfidf_testSup)\n",
    "print(\"\\nMetrics on Test Data using Random Forest:\")\n",
    "print(\"Accuracy: {}\".format(metrics.accuracy_score(y_test, y_predRF)))\n",
    "print(\"Precision: {}\".format(metrics.precision_score(y_test, y_predRF, pos_label = True, average = \"macro\")))\n",
    "print(\"Recall: {}\".format(metrics.recall_score(y_test, y_predRF, pos_label = True, average = \"macro\")))\n",
    "print(\"F1 score: {}\".format(metrics.f1_score(y_test, y_predRF, average = \"macro\")))\n",
    "print(\"\\nConfusion Matrix on Test Data:\")\n",
    "print(metrics.confusion_matrix(y_test, y_predRF))\n"
   ]
  },
  {
   "cell_type": "code",
   "execution_count": 59,
   "id": "85ba5d5b",
   "metadata": {},
   "outputs": [
    {
     "name": "stdout",
     "output_type": "stream",
     "text": [
      "(1, 2, 4, 0, 3) 0.802013422818792\n",
      "\n",
      "Metrics on Test Data using K-Means:\n",
      "Accuracy: 0.8456375838926175\n",
      "Precision: 0.879331326733592\n",
      "Recall: 0.8250799124247401\n",
      "F1 score: 0.8287236572950858\n",
      "\n",
      "Confusion Matrix on Test Data:\n",
      "[[68  0  3  0  4]\n",
      " [ 1 23  1  3 18]\n",
      " [ 2  0 45  1  8]\n",
      " [ 0  0  0 62  1]\n",
      " [ 1  0  0  3 54]]\n"
     ]
    }
   ],
   "source": [
    "# Create the K-Means model\n",
    "kmeansModel = KMeans(n_clusters = n_topics, init='k-means++', random_state = randomState)\n",
    "\n",
    "# Fit the model and predict the categories on the training TF-IDF matrix\n",
    "y_hatTrainSup = kmeansModel.fit_predict(tfidf_trainSup)\n",
    "\n",
    "# Determine best label order\n",
    "labelOrder, acc = label_permute_compare(y_train, y_hatTrainSup, topicDict)\n",
    "print(labelOrder, acc)\n",
    "\n",
    "# Only predict on the test data (do not fit)\n",
    "y_hatTestSup = kmeansModel.predict(tfidf_testSup)\n",
    "predTestSup = []\n",
    "for i in y_hatTestSup:\n",
    "    predTestSup.append(topicDict[labelOrder[i]])\n",
    "\n",
    "print(\"\\nMetrics on Test Data using K-Means:\")\n",
    "print(\"Accuracy: {}\".format(metrics.accuracy_score(y_test, predTestSup)))\n",
    "print(\"Precision: {}\".format(metrics.precision_score(y_test, predTestSup, pos_label = True, average = \"macro\")))\n",
    "print(\"Recall: {}\".format(metrics.recall_score(y_test, predTestSup, pos_label = True, average = \"macro\")))\n",
    "print(\"F1 score: {}\".format(metrics.f1_score(y_test, predTestSup, average = \"macro\")))\n",
    "print(\"\\nConfusion Matrix on Test Data:\")\n",
    "print(metrics.confusion_matrix(y_test, predTestSup))"
   ]
  },
  {
   "cell_type": "markdown",
   "id": "1056c280",
   "metadata": {},
   "source": [
    "## Part 2:  Limitations of SKLearn's Non-negative Matrix Factorization\n",
    "### Applying Non-negative Matrix Factorization to Movie Data\n",
    "### 1. Load movie data and report RMSE.\n",
    "The data is loaded and the unrated movies are rated using non-negative matrix factorization.\n",
    "Note that by using the binary matrix and element-wise multiplication when adding the Mr matrix only the unrated movies are updated. After experimenting with multiple values for n_components, the lowest RMSE was found at n_components = 25 and calculated to be $\\approx$ 2.8561."
   ]
  },
  {
   "cell_type": "code",
   "execution_count": 1,
   "id": "8a6b782f",
   "metadata": {},
   "outputs": [],
   "source": [
    "from collections import namedtuple\n",
    "from scipy.sparse import coo_matrix\n"
   ]
  },
  {
   "cell_type": "code",
   "execution_count": 29,
   "id": "1335f542",
   "metadata": {},
   "outputs": [],
   "source": [
    "# Load the data\n",
    "MV_users = pd.read_csv('data/users.csv')\n",
    "MV_movies = pd.read_csv('data/movies.csv')\n",
    "train = pd.read_csv('data/train.csv')\n",
    "test = pd.read_csv('data/test.csv')\n",
    "\n",
    "movieNamedTuples = namedtuple('Data', ['users','movies','train','test'])\n",
    "data = movieNamedTuples(MV_users, MV_movies, train, test)"
   ]
  },
  {
   "cell_type": "code",
   "execution_count": 50,
   "id": "218219a5",
   "metadata": {},
   "outputs": [],
   "source": [
    "# Initialize useful variables\n",
    "def rating_matrix():\n",
    "    allusers = list(data.users['uID'])\n",
    "    allmovies = list(data.movies['mID'])\n",
    "    ind_movie = [mid2idx[x] for x in data.train.mID] \n",
    "    ind_user = [uid2idx[x] for x in data.train.uID]\n",
    "    rating_train = list(train.rating)\n",
    "    return np.array(coo_matrix((rating_train, (ind_user, ind_movie)), shape=(len(allusers), len(allmovies))).toarray())\n",
    "\n",
    "mid2idx = dict(zip(data.movies.mID,list(range(len(data.movies)))))\n",
    "uid2idx = dict(zip(data.users.uID,list(range(len(data.users)))))\n",
    "Mr = rating_matrix()\n",
    "\n",
    "# Create the model\n",
    "nmfModelMovies = NMF(n_components = 25, init = \"nndsvda\", max_iter = 500, random_state = randomState)\n",
    "\n",
    "# Fit the model and transform the training data\n",
    "weightsMovies = nmfModelMovies.fit_transform(Mr)"
   ]
  },
  {
   "cell_type": "code",
   "execution_count": 39,
   "id": "b7834def",
   "metadata": {},
   "outputs": [
    {
     "name": "stdout",
     "output_type": "stream",
     "text": [
      "RMSE: 2.856090321700196\n"
     ]
    }
   ],
   "source": [
    "# Create a new matrix with the imputed ratings from NMF for ALL movies\n",
    "nmfAllMovieRatings = np.matmul(weightsMovies, nmfModelMovies.components_)\n",
    "\n",
    "# Create a matrix of 0's and 1's where 0's are located where  \n",
    "# user's have rated movies and 1's where they have not\n",
    "binMatrix = np.logical_not(Mr.astype(bool)).astype(int)\n",
    "\n",
    "# Element wise multiply the binary matrix and the predictions\n",
    "onlyUnrated = np.multiply(binMatrix, nmfAllMovieRatings)\n",
    "\n",
    "# Replace movies that a user has not rated with the NMF rating\n",
    "Mr = Mr + onlyUnrated\n",
    "\n",
    "# Compute the predictions on the test data\n",
    "predMovieTest = data.test.apply(lambda row: Mr[uid2idx[row.uID], mid2idx[row.mID]], axis=1)\n",
    "\n",
    "# Compute the RMSE\n",
    "mse = metrics.mean_squared_error(data.test.rating, predMovieTest)\n",
    "print(\"RMSE: {}\".format(mse ** .5))\n"
   ]
  },
  {
   "cell_type": "markdown",
   "id": "75a18cb2",
   "metadata": {},
   "source": [
    "### 2. Discuss results and methods to improve NMF results on movie data\n",
    "The RMSE found using a strict NMF approach to predicting a user's rating was worse than even using the average for a user. This is due to to how NMF is designed to reproduce the original matrix from a product of two smaller matrices and this method being applied to a sparse matrix.\n",
    "\n",
    "Because most of the ratings for a user are 0, the NMF predicted ratings will be significantly lower.  For example the average rating for the user at index 0 is 4.2 and the _max_ NMF prediction for that user is 2.7.  \n",
    "  \n",
    "To improve the RMSE of this NMF technique I would suggest either replacing the 0 values with that user's average rating, or preferably augmenting the data that the NMF model fitted with to include similarity values. "
   ]
  },
  {
   "cell_type": "code",
   "execution_count": null,
   "id": "6cc83fcd",
   "metadata": {},
   "outputs": [],
   "source": []
  }
 ],
 "metadata": {
  "kernelspec": {
   "display_name": "Python 3 (ipykernel)",
   "language": "python",
   "name": "python3"
  },
  "language_info": {
   "codemirror_mode": {
    "name": "ipython",
    "version": 3
   },
   "file_extension": ".py",
   "mimetype": "text/x-python",
   "name": "python",
   "nbconvert_exporter": "python",
   "pygments_lexer": "ipython3",
   "version": "3.9.12"
  }
 },
 "nbformat": 4,
 "nbformat_minor": 5
}
